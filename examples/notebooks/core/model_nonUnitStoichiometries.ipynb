{
 "cells": [
  {
   "cell_type": "markdown",
   "metadata": {},
   "source": [
    "Back to the main [Index](../index.ipynb)"
   ]
  },
  {
   "cell_type": "markdown",
   "metadata": {},
   "source": [
    "### Non-unit stoichiometries\n",
    "The following example demonstrates how to create a model with non-unit stoichiometries."
   ]
  },
  {
   "cell_type": "code",
   "execution_count": 2,
   "metadata": {
    "collapsed": false
   },
   "outputs": [
    {
     "name": "stdout",
     "output_type": "stream",
     "text": [
      "// Created by libAntimony v2.8.1\n",
      "model *pathway()\n",
      "\n",
      "  // Compartments and Species:\n",
      "  species S1, S2, S3, S4, S5;\n",
      "\n",
      "  // Reactions:\n",
      "  _J0: S1 + S2 -> 2S3; k1*S1*S2;\n",
      "  _J1: 3S3 -> 4S4 + 6S5; k2*S3^3;\n",
      "\n",
      "  // Species initializations:\n",
      "  S1 = 0;\n",
      "  S2 = 0;\n",
      "  S3 = 0;\n",
      "  S4 = 0;\n",
      "  S5 = 0;\n",
      "\n",
      "  // Variable initializations:\n",
      "  k1 = 0.1;\n",
      "  k2 = 0.1;\n",
      "\n",
      "  // Other declarations:\n",
      "  const k1, k2;\n",
      "end\n",
      "\n"
     ]
    }
   ],
   "source": [
    "%matplotlib inline\n",
    "from __future__ import print_function\n",
    "import tellurium as te\n",
    "\n",
    "r = te.loada('''\n",
    "  model pathway()\n",
    "    S1 + S2 -> 2 S3; k1*S1*S2\n",
    "    3 S3 -> 4 S4 + 6 S5; k2*S3^3\n",
    "    k1 = 0.1;k2 = 0.1;\n",
    "  end\n",
    "''')\n",
    "print(r.getCurrentAntimony())"
   ]
  }
 ],
 "metadata": {
  "kernelspec": {
   "display_name": "Python 2",
   "language": "python",
   "name": "python2"
  },
  "language_info": {
   "codemirror_mode": {
    "name": "ipython",
    "version": 2
   },
   "file_extension": ".py",
   "mimetype": "text/x-python",
   "name": "python",
   "nbconvert_exporter": "python",
   "pygments_lexer": "ipython2",
   "version": "2.7.12"
  },
  "latex_envs": {
   "bibliofile": "biblio.bib",
   "cite_by": "apalike",
   "current_citInitial": 1,
   "eqLabelWithNumbers": true,
   "eqNumInitial": 0
  },
  "toc": {
   "toc_cell": false,
   "toc_number_sections": true,
   "toc_threshold": 6,
   "toc_window_display": false
  }
 },
 "nbformat": 4,
 "nbformat_minor": 0
}
