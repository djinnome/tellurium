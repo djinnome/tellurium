{
 "cells": [
  {
   "cell_type": "markdown",
   "metadata": {},
   "source": [
    "### Normalized species\n",
    "Example model which calculates functions depending on the normalized values of a species which can be either in active state `SA` or inactive state `SI`.\n",
    "\n",
    "The normalized values are `SA_f` and `SI_f`, respectively, with the total concentration of `S` given as \n",
    "```\n",
    "ST = SA + SI\n",
    "```\n",
    "#### Model definition\n",
    "The model is defined using `Tellurium` and `Antimony`. The identical equations could be typed directly in `COPASI`. \n",
    "\n",
    "The created model is exported as `SBML` which than can be used in `COPASI`."
   ]
  },
  {
   "cell_type": "code",
   "execution_count": 1,
   "metadata": {
    "collapsed": false
   },
   "outputs": [],
   "source": [
    "%matplotlib inline\n",
    "from __future__ import print_function, division\n",
    "import tellurium as te\n",
    "r = te.loada(\"\"\"\n",
    "    model normalized_species()\n",
    "    \n",
    "    # conversion between active (SA) and inactive (SI)\n",
    "    J1: SA -> SI; k1*SA - k2*SI;\n",
    "    k1 = 0.1; k2 = 0.02;\n",
    "    \n",
    "    # species\n",
    "    species SA, SI, ST;\n",
    "    SA = 10.0; SI = 0.0;\n",
    "    const ST := SA + SI;\n",
    "    \n",
    "    SA is \"active state S\";\n",
    "    SI is \"inactive state S\";\n",
    "    ST is \"total state S\";\n",
    "    \n",
    "    # normalized species calculated via assignment rules\n",
    "    species SA_f, SI_f;\n",
    "    SA_f := SA/ST;\n",
    "    SI_f := SI/ST;\n",
    "    \n",
    "    SA_f is \"normalized active state S\";\n",
    "    SI_f is \"normalized inactive state S\";\n",
    "    \n",
    "    # parameters for your function\n",
    "    P = 0.1;\n",
    "    tau = 10.0;\n",
    "    nA = 1.0;\n",
    "    nI = 2.0;\n",
    "    kA = 0.1;\n",
    "    kI = 0.2;\n",
    "    # now just use the normalized species in some math\n",
    "    F := ( (1-(SI_f^nI)/(kI^nI+SI_f^nI)*(kI^nI+1) ) * ( (SA_f^nA)/(kA^nA+SA_f^nA)*(kA^nA+1) ) -P)*tau;\n",
    "\n",
    "    end\n",
    "\"\"\")\n",
    "# print(r.getAntimony())\n",
    "\n",
    "# Store the SBML for COPASI\n",
    "import os\n",
    "import tempfile\n",
    "temp_dir = tempfile.mkdtemp()\n",
    "file_path = os.path.join(temp_dir, 'normalizedSpecies.xml')\n",
    "r.exportToSBML(file_path)"
   ]
  },
  {
   "cell_type": "markdown",
   "metadata": {},
   "source": [
    "#### Model simulation\n",
    "We perform a simple model simulation to demonstrate the main features using `roadrunner`:\n",
    "- normalized values `SA_f` and `SI_f` are normalized in `[0,1]`\n",
    "- the normalized values have same dynamics like `SA` and `SF`\n",
    "- the normalized values can be used to calculates some dependent function, here `F`"
   ]
  },
  {
   "cell_type": "code",
   "execution_count": 2,
   "metadata": {
    "collapsed": false
   },
   "outputs": [
    {
     "data": {
      "image/png": "[encoded data removed]",
      "text/plain": [
       "<matplotlib.figure.Figure at 0x11c7ff3d0>"
      ]
     },
     "metadata": {},
     "output_type": "display_data"
    }
   ],
   "source": [
    "%matplotlib inline\n",
    "r.reset()\n",
    "# select the variables of interest in output\n",
    "r.selections = ['time', 'F'] + r.getBoundarySpeciesIds() \\\n",
    "                             + r.getFloatingSpeciesIds()\n",
    "# simulate from 0 to 50 with 1001 points\n",
    "s = r.simulate(0,50,1001)\n",
    "# plot the results\n",
    "r.plot(s);"
   ]
  },
  {
   "cell_type": "code",
   "execution_count": null,
   "metadata": {
    "collapsed": true
   },
   "outputs": [],
   "source": []
  }
 ],
 "metadata": {
  "kernelspec": {
   "display_name": "Python 2",
   "language": "python",
   "name": "python2"
  },
  "language_info": {
   "codemirror_mode": {
    "name": "ipython",
    "version": 2
   },
   "file_extension": ".py",
   "mimetype": "text/x-python",
   "name": "python",
   "nbconvert_exporter": "python",
   "pygments_lexer": "ipython2",
   "version": "2.7.12"
  },
  "latex_envs": {
   "bibliofile": "biblio.bib",
   "cite_by": "apalike",
   "current_citInitial": 1,
   "eqLabelWithNumbers": true,
   "eqNumInitial": 0
  },
  "toc": {
   "toc_cell": false,
   "toc_number_sections": true,
   "toc_threshold": 6,
   "toc_window_display": false
  }
 },
 "nbformat": 4,
 "nbformat_minor": 0
}
