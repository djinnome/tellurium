{
 "cells": [
  {
   "cell_type": "markdown",
   "metadata": {},
   "source": [
    "Back to the main [Index](../index.ipynb)"
   ]
  },
  {
   "cell_type": "markdown",
   "metadata": {},
   "source": [
    "### Model Loading\n",
    "To load models use the load functions\n",
    "\n",
    "* `te.loadAntimony` (`te.loada`): load Antimony model\n",
    "* `te.loadSBML`: load SBML model\n",
    "* `te.loadCellML`: load CellML model"
   ]
  },
  {
   "cell_type": "code",
   "execution_count": 2,
   "metadata": {
    "collapsed": false
   },
   "outputs": [],
   "source": [
    "%matplotlib inline\n",
    "from __future__ import print_function\n",
    "import tellurium as te\n",
    "\n",
    "model = \"\"\"\n",
    "model test\n",
    "    compartment C1;\n",
    "    C1 = 1.0;\n",
    "    species S1, S2;\n",
    "    \n",
    "    S1 = 10.0;\n",
    "    S2 = 0.0;\n",
    "    S1 in C1; S2 in C1;\n",
    "    J1: S1 -> S2; k1*S1;\n",
    "    \n",
    "    k1 = 1.0;\n",
    "end\n",
    "\"\"\"\n",
    "# load models\n",
    "r = te.loada(model)"
   ]
  },
  {
   "cell_type": "markdown",
   "metadata": {},
   "source": [
    "### Integrator and Integrator Settings\n",
    "To set the integrator use `r.setIntegrator(integrator)`.\n",
    "\n",
    "To set integrator settings use `r.integrator.setValue(key, value)`. For instance\n",
    "\n",
    "* `variable_step_size`\n",
    "* `stiff`\n",
    "* `absolute_tolerance`\n",
    "* `relative_tolerance`\n",
    "* `seed`"
   ]
  },
  {
   "cell_type": "code",
   "execution_count": 3,
   "metadata": {
    "collapsed": false
   },
   "outputs": [
    {
     "name": "stdout",
     "output_type": "stream",
     "text": [
      "< roadrunner.Integrator() >\n",
      "  name: cvode\n",
      "  settings:\n",
      "      relative_tolerance: 0.00001\n",
      "      absolute_tolerance: 0.0000000001\n",
      "                   stiff: true\n",
      "       maximum_bdf_order: 5\n",
      "     maximum_adams_order: 12\n",
      "       maximum_num_steps: 20000\n",
      "       maximum_time_step: 0\n",
      "       minimum_time_step: 0\n",
      "       initial_time_step: 0\n",
      "          multiple_steps: false\n",
      "      variable_step_size: false\n",
      "\n"
     ]
    }
   ],
   "source": [
    "# set integrator\n",
    "r.setIntegrator('rk4')\n",
    "r.setIntegrator('gillespie')\n",
    "r.setIntegrator('cvode')\n",
    "\n",
    "# set integrator settings\n",
    "r.integrator.setValue('variable_step_size', False)\n",
    "r.integrator.setValue('stiff', True)\n",
    "\n",
    "# print integrator settings\n",
    "print(r.integrator)"
   ]
  },
  {
   "cell_type": "markdown",
   "metadata": {},
   "source": [
    "### Simulation options\n",
    "The simulation options \n",
    "\n",
    "* `start`: start time\n",
    "* `end`: end time\n",
    "* `points`: number of points in solution\n",
    "* `steps`: number of steps in solution\n",
    "\n",
    "are set as arguments in `r.simulate`"
   ]
  },
  {
   "cell_type": "code",
   "execution_count": 4,
   "metadata": {
    "collapsed": false
   },
   "outputs": [
    {
     "name": "stdout",
     "output_type": "stream",
     "text": [
      "    time,        [S1],    [S2]\n",
      " [[    0,          10,       0],\n",
      "  [    2,     1.35329, 8.64671],\n",
      "  [    4,    0.183132, 9.81687],\n",
      "  [    6,    0.024782, 9.97522],\n",
      "  [    8,  0.00335358, 9.99665],\n",
      "  [   10, 0.000453818, 9.99955]]\n",
      "\n",
      "    time,        [S1],    [S2]\n",
      " [[    0,          10,       0],\n",
      "  [    2,     1.35329, 8.64671],\n",
      "  [    4,    0.183132, 9.81687],\n",
      "  [    6,    0.024782, 9.97522],\n",
      "  [    8,  0.00335358, 9.99665],\n",
      "  [   10, 0.000453818, 9.99955]]\n",
      "\n"
     ]
    }
   ],
   "source": [
    "# simulate from 0 to 6 with 6 points in the result\n",
    "r.reset()\n",
    "res1 = r.simulate(start=0, end=10, points=6)\n",
    "print(res1)\n",
    "r.reset()\n",
    "res2 = r.simulate(0, 10, 6)\n",
    "print(res2)"
   ]
  },
  {
   "cell_type": "markdown",
   "metadata": {},
   "source": [
    "### Selections\n",
    "Selections can be either given as argument to `r.simulate` or set via `r.selections`."
   ]
  },
  {
   "cell_type": "code",
   "execution_count": 5,
   "metadata": {
    "collapsed": false
   },
   "outputs": [
    {
     "name": "stdout",
     "output_type": "stream",
     "text": [
      "    time,          J1\n",
      " [[    0, 0.000453818],\n",
      "  [    2, 6.14191e-05],\n",
      "  [    4, 8.31285e-06],\n",
      "  [    6, 1.12523e-06],\n",
      "  [    8, 1.52689e-07],\n",
      "  [   10, 2.07032e-08]]\n",
      "\n",
      "              S1, S2\n",
      " [[  2.07032e-08, 10],\n",
      "  [  2.71764e-09, 10],\n",
      "  [  4.08585e-10, 10],\n",
      "  [  6.85818e-11, 10],\n",
      "  [  1.47247e-11, 10],\n",
      "  [ -3.51877e-12, 10]]\n",
      "\n"
     ]
    }
   ],
   "source": [
    "# set selections directly\n",
    "r.selections = ['time', 'J1']\n",
    "print(r.simulate(0,10,6))\n",
    "# provide arguments to simulate\n",
    "print(r.simulate(0,10,6, selections=r.getFloatingSpeciesIds()))"
   ]
  },
  {
   "cell_type": "markdown",
   "metadata": {},
   "source": [
    "### Reset model variables\n",
    "To reset variables use the `r.reset()` and `r.reset(SelectionRecord.*)` functions."
   ]
  },
  {
   "cell_type": "code",
   "execution_count": 6,
   "metadata": {
    "collapsed": false
   },
   "outputs": [
    {
     "name": "stdout",
     "output_type": "stream",
     "text": [
      "r.S1 == -3.5187697416e-12\n",
      "r.S2 == 10.0\n",
      "reset\n",
      "r.S1 == 10.0\n",
      "r.S2 == 0.0\n"
     ]
    }
   ],
   "source": [
    "# show the current values\n",
    "for s in ['S1', 'S2']:\n",
    "    print('r.{} == {}'.format(s, r[s]))\n",
    "# reset initial concentrations\n",
    "r.reset()\n",
    "print('reset')\n",
    "# S1 and S2 have now again the initial values\n",
    "for s in ['S1', 'S2']:\n",
    "    print('r.{} == {}'.format(s, r[s]))"
   ]
  },
  {
   "cell_type": "code",
   "execution_count": null,
   "metadata": {
    "collapsed": true
   },
   "outputs": [],
   "source": []
  }
 ],
 "metadata": {
  "kernelspec": {
   "display_name": "Python 2",
   "language": "python",
   "name": "python2"
  },
  "language_info": {
   "codemirror_mode": {
    "name": "ipython",
    "version": 2
   },
   "file_extension": ".py",
   "mimetype": "text/x-python",
   "name": "python",
   "nbconvert_exporter": "python",
   "pygments_lexer": "ipython2",
   "version": "2.7.12"
  },
  "latex_envs": {
   "bibliofile": "biblio.bib",
   "cite_by": "apalike",
   "current_citInitial": 1,
   "eqLabelWithNumbers": true,
   "eqNumInitial": 0
  },
  "toc": {
   "toc_cell": false,
   "toc_number_sections": true,
   "toc_threshold": 6,
   "toc_window_display": false
  }
 },
 "nbformat": 4,
 "nbformat_minor": 0
}
