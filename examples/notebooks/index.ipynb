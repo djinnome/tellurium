{
 "cells": [
  {
   "cell_type": "markdown",
   "metadata": {},
   "source": [
    "# Interactive Tellurium Notebooks"
   ]
  },
  {
   "cell_type": "markdown",
   "metadata": {},
   "source": [
    "IPython includes an architecture for interactive widgets that tie together Python code running in the kernel and JavaScript/HTML/CSS  running in the browser. These widgets enable users to explore their code and data interactively."
   ]
  },
  {
   "cell_type": "markdown",
   "metadata": {},
   "source": [
    "## Introduction\n",
    "- [Introduction examples](core/introduction.ipynb)"
   ]
  },
  {
   "cell_type": "markdown",
   "metadata": {},
   "source": [
    "## Basics\n",
    "- [roadrunner basics](core/roadrunnerBasics.ipynb)"
   ]
  },
  {
   "cell_type": "markdown",
   "metadata": {},
   "source": [
    "## Models & model building\n",
    "- [Load BioModel](core/model_modelFromBioModels.ipynb)\n",
    "- [Non-unit stoichiometries](core/model_nonUnitStoichiometries.ipynb)\n",
    "- [UniUni reactions using first-order mass action kinetics](core/model_consecutiveUniUniReactions.ipynb)\n",
    "- [Antimony](core/antimonyExample.ipynb)\n",
    "- [Feedback oscillations](core/model_feedback_oscillations.ipynb)\n",
    "- [Generate different wave forms](core/model_generatingDifferentWaveforms.ipynb)"
   ]
  },
  {
   "cell_type": "markdown",
   "metadata": {},
   "source": [
    "## SED-ML\n",
    "- [phrasedml](core/phrasedmlExample.ipynb)\n",
    "- [tesedml](core/tesedmlExample.ipynb)"
   ]
  },
  {
   "cell_type": "markdown",
   "metadata": {},
   "source": [
    "## Parameter scan\n",
    "- [Parameter scan](core/parameter_scan.ipynb)\n",
    "- [Steady state scan](core/steadystate_scan.ipynb)\n",
    "- [Steady State Calculation](core/computeSteadyState.ipynb)"
   ]
  },
  {
   "cell_type": "markdown",
   "metadata": {},
   "source": [
    "## Widgets\n",
    "In the following some example of the Tellurium work with widgets is demonstrated.\n",
    "- [Parameter Slider](widgets/widgets_parameter_slider.ipynb)\n",
    "- [Species Search](widgets/widgets_species_search.ipynb)\n",
    "- [Ontology Search](widgets/widgets_ontology_search.ipynb)\n",
    "- [Lorenz](widgets/widgets_lorenz.ipynb)"
   ]
  },
  {
   "cell_type": "markdown",
   "metadata": {},
   "source": [
    "## Template\n",
    "Template file for documentation notebooks.\n",
    "- [template.ipynb](core/template.ipynb)"
   ]
  },
  {
   "cell_type": "code",
   "execution_count": null,
   "metadata": {
    "collapsed": true
   },
   "outputs": [],
   "source": []
  }
 ],
 "metadata": {
  "kernelspec": {
   "display_name": "Python 2",
   "language": "python",
   "name": "python2"
  },
  "language_info": {
   "codemirror_mode": {
    "name": "ipython",
    "version": 2
   },
   "file_extension": ".py",
   "mimetype": "text/x-python",
   "name": "python",
   "nbconvert_exporter": "python",
   "pygments_lexer": "ipython2",
   "version": "2.7.12"
  },
  "latex_envs": {
   "bibliofile": "biblio.bib",
   "cite_by": "apalike",
   "current_citInitial": 1,
   "eqLabelWithNumbers": true,
   "eqNumInitial": 0
  },
  "toc": {
   "toc_cell": false,
   "toc_number_sections": true,
   "toc_threshold": 6,
   "toc_window_display": false
  }
 },
 "nbformat": 4,
 "nbformat_minor": 0
}
